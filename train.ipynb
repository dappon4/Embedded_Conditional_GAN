{
 "cells": [
  {
   "cell_type": "code",
   "execution_count": 5,
   "metadata": {},
   "outputs": [],
   "source": [
    "from model import EmbeddedConditionlGAN\n",
    "from datamodule import MNISTDataModule\n",
    "import pytorch_lightning as pl\n",
    "import torch"
   ]
  },
  {
   "cell_type": "code",
   "execution_count": null,
   "metadata": {},
   "outputs": [
    {
     "name": "stderr",
     "output_type": "stream",
     "text": [
      "GPU available: True (cuda), used: True\n",
      "TPU available: False, using: 0 TPU cores\n",
      "HPU available: False, using: 0 HPUs\n",
      "LOCAL_RANK: 0 - CUDA_VISIBLE_DEVICES: [0]\n",
      "\n",
      "  | Name          | Type         | Params | Mode \n",
      "-------------------------------------------------------\n",
      "0 | generator     | Generator    | 244 K  | train\n",
      "1 | discriminator | Disciminator | 533 K  | train\n",
      "2 | emb           | Embedding    | 1.0 K  | train\n",
      "3 | d_emb_linear  | Linear       | 79.2 K | train\n",
      "-------------------------------------------------------\n",
      "858 K     Trainable params\n",
      "0         Non-trainable params\n",
      "858 K     Total params\n",
      "3.434     Total estimated model params size (MB)\n",
      "16        Modules in train mode\n",
      "0         Modules in eval mode\n"
     ]
    },
    {
     "name": "stdout",
     "output_type": "stream",
     "text": [
      "Epoch 0:  79%|███████▊  | 338/430 [00:02<00:00, 138.82it/s, v_num=37]       "
     ]
    }
   ],
   "source": [
    "dm = MNISTDataModule(batch_size=128)\n",
    "model = EmbeddedConditionlGAN(img_shape=dm.dims, lr=0.002, b1=0.5, b2=0.999)\n",
    "trainer = pl.Trainer(max_epochs=300,accelerator=\"gpu\")\n",
    "\n",
    "trainer.fit(model, dm)\n",
    "torch.save(model.state_dict(), \"model.pth\")"
   ]
  },
  {
   "cell_type": "code",
   "execution_count": null,
   "metadata": {},
   "outputs": [],
   "source": []
  }
 ],
 "metadata": {
  "kernelspec": {
   "display_name": "GAN",
   "language": "python",
   "name": "python3"
  },
  "language_info": {
   "codemirror_mode": {
    "name": "ipython",
    "version": 3
   },
   "file_extension": ".py",
   "mimetype": "text/x-python",
   "name": "python",
   "nbconvert_exporter": "python",
   "pygments_lexer": "ipython3",
   "version": "3.12.6"
  }
 },
 "nbformat": 4,
 "nbformat_minor": 2
}
